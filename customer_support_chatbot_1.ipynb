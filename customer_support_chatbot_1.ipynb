{
  "nbformat": 4,
  "nbformat_minor": 0,
  "metadata": {
    "colab": {
      "provenance": [],
      "authorship_tag": "ABX9TyNWEk8wyw4GEmLDZYo8wMXT",
      "include_colab_link": true
    },
    "kernelspec": {
      "name": "python3",
      "display_name": "Python 3"
    },
    "language_info": {
      "name": "python"
    }
  },
  "cells": [
    {
      "cell_type": "markdown",
      "metadata": {
        "id": "view-in-github",
        "colab_type": "text"
      },
      "source": [
        "<a href=\"https://colab.research.google.com/github/Yamini-M03/customer-support-chatbot/blob/main/customer_support_chatbot_1.ipynb\" target=\"_parent\"><img src=\"https://colab.research.google.com/assets/colab-badge.svg\" alt=\"Open In Colab\"/></a>"
      ]
    },
    {
      "cell_type": "code",
      "execution_count": null,
      "metadata": {
        "id": "xwu6olyGoBoB"
      },
      "outputs": [],
      "source": [
        "# Simple Customer Support Chatbot\n",
        "responses = {\n",
        "    \"hi\": [\"Hello! Welcome to our support.\", \"Hi there! How can I help?\"],\n",
        "    \"order\": [\"Your order #123 will arrive Friday.\", \"Please check your email for tracking.\"],\n",
        "    \"return\": [\"Visit returns.example.com\", \"Start returns within 30 days.\"],\n",
        "    \"bye\": [\"Goodbye!\", \"Have a nice day!\"],\n",
        "    \"default\": [\"I didn't understand. Contact support@example.com\"]\n",
        "}\n",
        "\n",
        "def chatbot():\n",
        "    print(\"Bot: Hi! Ask about orders/returns. Type 'bye' to exit.\")\n",
        "    while True:\n",
        "        user_input = input(\"You: \").lower()\n",
        "\n",
        "        if user_input in [\"exit\", \"bye\", \"quit\"]:\n",
        "            print(\"Bot:\", random.choice(responses[\"bye\"]))\n",
        "            break\n",
        "        elif \"hi\" in user_input:\n",
        "            print(\"Bot:\", random.choice(responses[\"hi\"]))\n",
        "        elif \"order\" in user_input:\n",
        "            print(\"Bot:\", random.choice(responses[\"order\"]))\n",
        "        elif \"return\" in user_input:\n",
        "            print(\"Bot:\", random.choice(responses[\"return\"]))\n",
        "        else:\n",
        "            print(\"Bot:\", random.choice(responses[\"default\"]))\n",
        "\n",
        "# Run the chatbot\n",
        "import random\n",
        "chatbot()"
      ]
    }
  ]
}